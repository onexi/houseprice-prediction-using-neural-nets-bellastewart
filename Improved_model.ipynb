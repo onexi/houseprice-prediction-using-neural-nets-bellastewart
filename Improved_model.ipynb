{
 "cells": [
  {
   "cell_type": "markdown",
   "metadata": {},
   "source": [
    "# House Price Predictor"
   ]
  },
  {
   "cell_type": "code",
   "execution_count": 2,
   "metadata": {},
   "outputs": [],
   "source": [
    "import pandas as pd\n",
    "import numpy as np\n",
    "import torch\n",
    "import torch.nn as nn\n",
    "import torch.optim as optim\n",
    "from sklearn.model_selection import train_test_split\n",
    "from sklearn.preprocessing import StandardScaler\n",
    "from sklearn.metrics import mean_squared_error\n",
    "from torch.utils.data import TensorDataset, DataLoader"
   ]
  },
  {
   "cell_type": "code",
   "execution_count": 3,
   "metadata": {},
   "outputs": [],
   "source": [
    "# -----------------------------\n",
    "# 1. Load the dataset\n",
    "# -----------------------------\n",
    "# Replace 'house_prices.csv' with the path to your dataset.\n",
    "data = pd.read_csv('train.csv')\n",
    "#data"
   ]
  },
  {
   "cell_type": "code",
   "execution_count": 4,
   "metadata": {},
   "outputs": [],
   "source": [
    "# -----------------------------\n",
    "# 2. Data Cleaning\n",
    "# -----------------------------\n",
    "# Select only numeric columns that have no missing data.\n",
    "numeric_cols = data.select_dtypes(include=[np.number]).columns\n",
    "clean_numeric_cols = [col for col in numeric_cols if data[col].isna().sum() == 0]\n",
    "data_clean = data[clean_numeric_cols]\n",
    "\n",
    "# Ensure that the target column 'price' is present.\n",
    "if 'SalePrice' not in data_clean.columns:\n",
    "    raise ValueError(\"The target column 'price' is not present in the complete numeric data.\")"
   ]
  },
  {
   "cell_type": "code",
   "execution_count": 5,
   "metadata": {},
   "outputs": [
    {
     "name": "stdout",
     "output_type": "stream",
     "text": [
      "Selected top 4 features: ['OverallQual', 'GrLivArea', 'GarageCars', 'GarageArea']\n"
     ]
    }
   ],
   "source": [
    "# -----------------------------\n",
    "# 3. Feature Selection\n",
    "# -----------------------------\n",
    "# Compute the correlation matrix using only the cleaned numeric data.\n",
    "corr_matrix = data_clean.corr()\n",
    "\n",
    "# Compute absolute correlations of features with the target and drop the target itself.\n",
    "target_corr = corr_matrix['SalePrice'].drop('SalePrice').abs().sort_values(ascending=False)\n",
    "\n",
    "# Select only the top 4 features with the highest correlation with 'SalesPrice'\n",
    "top4_features = target_corr.head(4).index\n",
    "print(\"Selected top 4 features:\", list(top4_features))\n",
    "\n",
    "# Define input features (X) and target variable (y).\n",
    "X = data_clean[top4_features].values\n",
    "y = data_clean['SalePrice'].values.reshape(-1, 1)"
   ]
  },
  {
   "cell_type": "code",
   "execution_count": 7,
   "metadata": {},
   "outputs": [],
   "source": [
    "# -----------------------------\n",
    "# 4. Data Preprocessing\n",
    "# -----------------------------\n",
    "# Split the data into training and testing sets.\n",
    "X_train, X_test, y_train, y_test = train_test_split(X, y, test_size=0.2, random_state=42)\n",
    "\n",
    "# Standardize features to improve training stability.\n",
    "scaler = StandardScaler()\n",
    "X_train = scaler.fit_transform(X_train)\n",
    "X_test = scaler.transform(X_test)"
   ]
  },
  {
   "cell_type": "code",
   "execution_count": 8,
   "metadata": {},
   "outputs": [],
   "source": [
    "# Convert the numpy arrays to PyTorch tensors.\n",
    "X_train_tensor = torch.tensor(X_train, dtype=torch.float32)\n",
    "y_train_tensor = torch.tensor(y_train, dtype=torch.float32)\n",
    "X_test_tensor = torch.tensor(X_test, dtype=torch.float32)\n",
    "y_test_tensor = torch.tensor(y_test, dtype=torch.float32)\n",
    "\n",
    "# Create a TensorDataset and DataLoader for batch processing.\n",
    "train_dataset = TensorDataset(X_train_tensor, y_train_tensor)\n",
    "train_loader = DataLoader(train_dataset, batch_size=32, shuffle=True)"
   ]
  },
  {
   "cell_type": "code",
   "execution_count": 54,
   "metadata": {},
   "outputs": [],
   "source": [
    "# -----------------------------\n",
    "# 5. Define the Neural Network Model\n",
    "# -----------------------------\n",
    "class HousePriceModel(nn.Module):\n",
    "    def __init__(self, input_dim):\n",
    "        super(HousePriceModel, self).__init__()\n",
    "        self.fc1 = nn.Linear(input_dim, 64)\n",
    "        self.fc2 = nn.Linear(64, 16)\n",
    "        self.fc3 = nn.Linear(16, 8)\n",
    "        self.fc4 = nn.Linear(8, 4)\n",
    "        self.fc5 = nn.Linear(4, 1)  # Output layer for regression\n",
    "        self.relu = nn.ReLU()\n",
    "    \n",
    "    def forward(self, x):\n",
    "        x = self.relu(self.fc1(x))\n",
    "        x = self.relu(self.fc2(x))\n",
    "        x = self.relu(self.fc3(x))\n",
    "        x = self.relu(self.fc4(x))\n",
    "        x = self.fc5(x)\n",
    "        return x\n",
    "\n",
    "# Use GPU if available\n",
    "device = torch.device('cuda' if torch.cuda.is_available() else 'cpu')\n",
    "model = HousePriceModel(input_dim=X_train.shape[1]).to(device)"
   ]
  },
  {
   "cell_type": "code",
   "execution_count": null,
   "metadata": {},
   "outputs": [],
   "source": []
  },
  {
   "cell_type": "code",
   "execution_count": 55,
   "metadata": {},
   "outputs": [
    {
     "name": "stdout",
     "output_type": "stream",
     "text": [
      "Epoch [10/1000], Loss: 40992747192.3200\n",
      "Epoch [20/1000], Loss: 36951550853.1200\n",
      "Epoch [30/1000], Loss: 16365835141.1200\n",
      "Epoch [40/1000], Loss: 5532017786.8800\n",
      "Epoch [50/1000], Loss: 4435212656.6400\n",
      "Epoch [60/1000], Loss: 3625373675.5200\n",
      "Epoch [70/1000], Loss: 2971237734.4000\n",
      "Epoch [80/1000], Loss: 2467966156.8000\n",
      "Epoch [90/1000], Loss: 2098131368.9600\n",
      "Epoch [100/1000], Loss: 1849875889.9200\n",
      "Epoch [110/1000], Loss: 1702647818.2400\n",
      "Epoch [120/1000], Loss: 1610341053.4400\n",
      "Epoch [130/1000], Loss: 1560065180.1600\n",
      "Epoch [140/1000], Loss: 1528509319.6800\n",
      "Epoch [150/1000], Loss: 1508639191.0400\n",
      "Epoch [160/1000], Loss: 1493955171.8400\n",
      "Epoch [170/1000], Loss: 1478888547.8400\n",
      "Epoch [180/1000], Loss: 1466800230.4000\n",
      "Epoch [190/1000], Loss: 1456879505.9200\n",
      "Epoch [200/1000], Loss: 1450038067.2000\n",
      "Epoch [210/1000], Loss: 1448574882.5600\n",
      "Epoch [220/1000], Loss: 1435361117.4400\n",
      "Epoch [230/1000], Loss: 1428189992.9600\n",
      "Epoch [240/1000], Loss: 1423051527.6800\n",
      "Epoch [250/1000], Loss: 1420325888.0000\n",
      "Epoch [260/1000], Loss: 1417213717.7600\n",
      "Epoch [270/1000], Loss: 1409781896.9600\n",
      "Epoch [280/1000], Loss: 1406515042.5600\n",
      "Epoch [290/1000], Loss: 1406225797.1200\n",
      "Epoch [300/1000], Loss: 1400794885.1200\n",
      "Epoch [310/1000], Loss: 1399075911.6800\n",
      "Epoch [320/1000], Loss: 1400085781.7600\n",
      "Epoch [330/1000], Loss: 1394083202.5600\n",
      "Epoch [340/1000], Loss: 1392206137.6000\n",
      "Epoch [350/1000], Loss: 1390775682.5600\n",
      "Epoch [360/1000], Loss: 1390473804.8000\n",
      "Epoch [370/1000], Loss: 1397305584.6400\n",
      "Epoch [380/1000], Loss: 1384689859.8400\n",
      "Epoch [390/1000], Loss: 1382435962.8800\n",
      "Epoch [400/1000], Loss: 1380395136.0000\n",
      "Epoch [410/1000], Loss: 1379794311.6800\n",
      "Epoch [420/1000], Loss: 1379635028.4800\n",
      "Epoch [430/1000], Loss: 1378435212.8000\n",
      "Epoch [440/1000], Loss: 1376353176.3200\n",
      "Epoch [450/1000], Loss: 1373994727.0400\n",
      "Epoch [460/1000], Loss: 1374412280.3200\n",
      "Epoch [470/1000], Loss: 1381077132.8000\n",
      "Epoch [480/1000], Loss: 1375010561.2800\n",
      "Epoch [490/1000], Loss: 1369249292.8000\n",
      "Epoch [500/1000], Loss: 1368376623.3600\n",
      "Epoch [510/1000], Loss: 1366979092.4800\n",
      "Epoch [520/1000], Loss: 1367570366.7200\n",
      "Epoch [530/1000], Loss: 1366193367.0400\n",
      "Epoch [540/1000], Loss: 1364418032.6400\n",
      "Epoch [550/1000], Loss: 1366284917.7600\n",
      "Epoch [560/1000], Loss: 1364208930.5600\n",
      "Epoch [570/1000], Loss: 1367740665.6000\n",
      "Epoch [580/1000], Loss: 1362527095.0400\n",
      "Epoch [590/1000], Loss: 1369678526.7200\n",
      "Epoch [600/1000], Loss: 1361013954.5600\n",
      "Epoch [610/1000], Loss: 1362363952.6400\n",
      "Epoch [620/1000], Loss: 1364338967.0400\n",
      "Epoch [630/1000], Loss: 1363553091.8400\n",
      "Epoch [640/1000], Loss: 1359083000.3200\n",
      "Epoch [650/1000], Loss: 1363797891.8400\n",
      "Epoch [660/1000], Loss: 1358178337.2800\n",
      "Epoch [670/1000], Loss: 1358253113.6000\n",
      "Epoch [680/1000], Loss: 1358140431.3600\n",
      "Epoch [690/1000], Loss: 1359989735.6800\n",
      "Epoch [700/1000], Loss: 1357688975.3600\n",
      "Epoch [710/1000], Loss: 1357773728.0000\n",
      "Epoch [720/1000], Loss: 1357898721.2800\n",
      "Epoch [730/1000], Loss: 1359573971.2000\n",
      "Epoch [740/1000], Loss: 1355433364.4800\n",
      "Epoch [750/1000], Loss: 1361183528.9600\n",
      "Epoch [760/1000], Loss: 1357333959.6800\n",
      "Epoch [770/1000], Loss: 1355155955.2000\n",
      "Epoch [780/1000], Loss: 1353035732.4800\n",
      "Epoch [790/1000], Loss: 1355673547.5200\n",
      "Epoch [800/1000], Loss: 1352946159.3600\n",
      "Epoch [810/1000], Loss: 1354339100.1600\n",
      "Epoch [820/1000], Loss: 1352459494.4000\n",
      "Epoch [830/1000], Loss: 1355131458.5600\n",
      "Epoch [840/1000], Loss: 1352847112.9600\n",
      "Epoch [850/1000], Loss: 1351163443.2000\n",
      "Epoch [860/1000], Loss: 1350334338.5600\n",
      "Epoch [870/1000], Loss: 1351984817.9200\n",
      "Epoch [880/1000], Loss: 1351471445.7600\n",
      "Epoch [890/1000], Loss: 1350164933.1200\n",
      "Epoch [900/1000], Loss: 1350585861.1200\n",
      "Epoch [910/1000], Loss: 1348757447.6800\n",
      "Epoch [920/1000], Loss: 1355686968.3200\n",
      "Epoch [930/1000], Loss: 1347943326.7200\n",
      "Epoch [940/1000], Loss: 1348494987.5200\n",
      "Epoch [950/1000], Loss: 1350698682.8800\n",
      "Epoch [960/1000], Loss: 1350551909.1200\n",
      "Epoch [970/1000], Loss: 1350034613.7600\n",
      "Epoch [980/1000], Loss: 1349475064.3200\n",
      "Epoch [990/1000], Loss: 1348565591.0400\n",
      "Epoch [1000/1000], Loss: 1349585776.6400\n"
     ]
    }
   ],
   "source": [
    "# -----------------------------\n",
    "# 6. Set Up Loss Function and Optimizer\n",
    "# -----------------------------\n",
    "criterion = nn.MSELoss()\n",
    "optimizer = optim.Adam(model.parameters(), lr=0.001)\n",
    "\n",
    "# -----------------------------\n",
    "# 7. Train the Model\n",
    "# -----------------------------\n",
    "num_epochs = 1000\n",
    "for epoch in range(num_epochs):\n",
    "    model.train()\n",
    "    running_loss = 0.0\n",
    "    for batch_X, batch_y in train_loader:\n",
    "        batch_X, batch_y = batch_X.to(device), batch_y.to(device)\n",
    "        \n",
    "        optimizer.zero_grad()\n",
    "        outputs = model(batch_X)\n",
    "        loss = criterion(outputs, batch_y)\n",
    "        loss.backward()\n",
    "        optimizer.step()\n",
    "        \n",
    "        running_loss += loss.item() * batch_X.size(0)\n",
    "    \n",
    "    epoch_loss = running_loss / len(train_dataset)\n",
    "    if (epoch + 1) % 10 == 0:\n",
    "        print(f\"Epoch [{epoch+1}/{num_epochs}], Loss: {epoch_loss:.4f}\")"
   ]
  },
  {
   "cell_type": "code",
   "execution_count": 56,
   "metadata": {},
   "outputs": [
    {
     "name": "stdout",
     "output_type": "stream",
     "text": [
      "Test Mean Squared Error: 909783360.0\n",
      "Test MSE (scikit-learn): 909783360.0\n"
     ]
    }
   ],
   "source": [
    "# 8. Evaluate the Model\n",
    "# -----------------------------\n",
    "model.eval()\n",
    "with torch.no_grad():\n",
    "    predictions = model(X_test_tensor.to(device))\n",
    "    test_loss = criterion(predictions, y_test_tensor.to(device)).item()\n",
    "    print(\"Test Mean Squared Error:\", test_loss)\n",
    "\n",
    "# Optionally, to evaluate using scikit-learn's MSE:\n",
    "predictions_np = predictions.cpu().numpy()\n",
    "mse = mean_squared_error(y_test, predictions_np)\n",
    "print(\"Test MSE (scikit-learn):\", mse)\n",
    "#Test Mean Squared Error: 935741376.0\n",
    "#Test Mean Squared Error: 890287168.0\n",
    "#Test MSE (scikit-learn): 890287040.0"
   ]
  },
  {
   "cell_type": "code",
   "execution_count": 59,
   "metadata": {},
   "outputs": [
    {
     "name": "stdout",
     "output_type": "stream",
     "text": [
      "Training RMSE: 36687.53248720879\n",
      "Test RMSE: 30162.615271226066\n"
     ]
    }
   ],
   "source": [
    "model.eval()\n",
    "with torch.no_grad():\n",
    "    train_predictions = model(X_train_tensor.to(device))\n",
    "    train_loss = criterion(train_predictions, y_train_tensor.to(device)).item()\n",
    "    train_rmse = np.sqrt(train_loss)\n",
    "    print(\"Training RMSE:\", train_rmse)\n",
    "\n",
    "rmse = np.sqrt(test_loss)\n",
    "print(f\"Test RMSE: {rmse}\")\n",
    "\n",
    "#Bella's Result: Training RMSE: 37040.67904345167\n",
    "#Test RMSE: 30354.362585961182"
   ]
  },
  {
   "cell_type": "code",
   "execution_count": 24,
   "metadata": {},
   "outputs": [
    {
     "name": "stderr",
     "output_type": "stream",
     "text": [
      "/tmp/ipykernel_127541/3042700335.py:4: DeprecationWarning: __array_wrap__ must accept context and return_scalar arguments (positionally) in the future. (Deprecated NumPy 2.0)\n",
      "  errors = np.abs(predictions - y_test)\n"
     ]
    },
    {
     "data": {
      "image/png": "[encoded data removed]",
      "text/plain": [
       "<Figure size 640x480 with 1 Axes>"
      ]
     },
     "metadata": {},
     "output_type": "display_data"
    }
   ],
   "source": [
    "import matplotlib.pyplot as plt\n",
    "import seaborn as sns\n",
    "\n",
    "errors = np.abs(predictions - y_test)\n",
    "sns.histplot(errors, bins=50, kde=True)\n",
    "plt.xlabel(\"Absolute Error ($)\")\n",
    "plt.ylabel(\"Frequency\")\n",
    "plt.title(\"Distribution of Prediction Errors\")\n",
    "plt.show()"
   ]
  },
  {
   "cell_type": "code",
   "execution_count": 60,
   "metadata": {},
   "outputs": [
    {
     "name": "stdout",
     "output_type": "stream",
     "text": [
      "Predictions saved to predictions.csv\n"
     ]
    }
   ],
   "source": [
    "# -----------------------------\n",
    "# 9. Generate Predictions on New Test Data (test.csv)\n",
    "# -----------------------------\n",
    "# Load the new test data\n",
    "test_data = pd.read_csv('test.csv')\n",
    "\n",
    "# Ensure the test data contains the ID column and the same top4_features.\n",
    "# For this example, assume the test file contains an \"ID\" column.\n",
    "if 'Id' not in test_data.columns:\n",
    "    raise ValueError(\"The test data must contain an 'ID' column.\")\n",
    "\n",
    "# It's assumed that the test data has at least the columns used in training.\n",
    "# Use the same top4_features determined from the training set.\n",
    "X_new = test_data[top4_features].values\n",
    "\n",
    "# Apply the same scaling transformation using the previously fitted scaler.\n",
    "X_new_scaled = scaler.transform(X_new)\n",
    "\n",
    "# Convert to PyTorch tensor.\n",
    "X_new_tensor = torch.tensor(X_new_scaled, dtype=torch.float32).to(device)\n",
    "\n",
    "# Put the model in evaluation mode and generate predictions.\n",
    "model.eval()\n",
    "with torch.no_grad():\n",
    "    new_predictions = model(X_new_tensor)\n",
    "    \n",
    "# Convert predictions to numpy array and flatten if necessary.\n",
    "new_predictions_np = new_predictions.cpu().numpy().flatten()\n",
    "\n",
    "# Create a DataFrame with IDs and their corresponding predicted sale prices.\n",
    "predictions_df = pd.DataFrame({\n",
    "    'ID': test_data['Id'],\n",
    "    'SalePrice': new_predictions_np\n",
    "})\n",
    "\n",
    "# Save the DataFrame to a CSV file.\n",
    "predictions_df.to_csv('predictions.csv', index=False)\n",
    "print(\"Predictions saved to predictions.csv\")\n"
   ]
  }
 ],
 "metadata": {
  "kernelspec": {
   "display_name": "Python 3",
   "language": "python",
   "name": "python3"
  },
  "language_info": {
   "codemirror_mode": {
    "name": "ipython",
    "version": 3
   },
   "file_extension": ".py",
   "mimetype": "text/x-python",
   "name": "python",
   "nbconvert_exporter": "python",
   "pygments_lexer": "ipython3",
   "version": "3.12.1"
  }
 },
 "nbformat": 4,
 "nbformat_minor": 2
}
