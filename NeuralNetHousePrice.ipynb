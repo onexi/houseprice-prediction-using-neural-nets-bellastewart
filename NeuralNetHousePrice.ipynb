{
 "cells": [
  {
   "cell_type": "markdown",
   "metadata": {},
   "source": [
    "# House Price Predictor"
   ]
  },
  {
   "cell_type": "code",
   "execution_count": 1,
   "metadata": {},
   "outputs": [],
   "source": [
    "import pandas as pd\n",
    "import numpy as np\n",
    "import torch\n",
    "import torch.nn as nn\n",
    "import torch.optim as optim\n",
    "from sklearn.model_selection import train_test_split\n",
    "from sklearn.preprocessing import StandardScaler\n",
    "from sklearn.metrics import mean_squared_error\n",
    "from torch.utils.data import TensorDataset, DataLoader"
   ]
  },
  {
   "cell_type": "code",
   "execution_count": 2,
   "metadata": {},
   "outputs": [],
   "source": [
    "# -----------------------------\n",
    "# 1. Load the dataset\n",
    "# -----------------------------\n",
    "# Replace 'house_prices.csv' with the path to your dataset.\n",
    "data = pd.read_csv('train.csv')\n",
    "#data"
   ]
  },
  {
   "cell_type": "code",
   "execution_count": 3,
   "metadata": {},
   "outputs": [],
   "source": [
    "# -----------------------------\n",
    "# 2. Data Cleaning\n",
    "# -----------------------------\n",
    "# Select only numeric columns that have no missing data.\n",
    "numeric_cols = data.select_dtypes(include=[np.number]).columns\n",
    "clean_numeric_cols = [col for col in numeric_cols if data[col].isna().sum() == 0]\n",
    "data_clean = data[clean_numeric_cols]\n",
    "\n",
    "# Ensure that the target column 'price' is present.\n",
    "if 'SalePrice' not in data_clean.columns:\n",
    "    raise ValueError(\"The target column 'price' is not present in the complete numeric data.\")"
   ]
  },
  {
   "cell_type": "code",
   "execution_count": 4,
   "metadata": {},
   "outputs": [
    {
     "name": "stdout",
     "output_type": "stream",
     "text": [
      "Selected top 4 features: ['OverallQual', 'GrLivArea', 'GarageCars', 'GarageArea']\n"
     ]
    }
   ],
   "source": [
    "# -----------------------------\n",
    "# 3. Feature Selection\n",
    "# -----------------------------\n",
    "# Compute the correlation matrix using only the cleaned numeric data.\n",
    "corr_matrix = data_clean.corr()\n",
    "\n",
    "# Compute absolute correlations of features with the target and drop the target itself.\n",
    "target_corr = corr_matrix['SalePrice'].drop('SalePrice').abs().sort_values(ascending=False)\n",
    "\n",
    "# Select only the top 4 features with the highest correlation with 'SalesPrice'\n",
    "top4_features = target_corr.head(4).index\n",
    "print(\"Selected top 4 features:\", list(top4_features))\n",
    "\n",
    "# Define input features (X) and target variable (y).\n",
    "X = data_clean[top4_features].values\n",
    "y = data_clean['SalePrice'].values.reshape(-1, 1)"
   ]
  },
  {
   "cell_type": "code",
   "execution_count": 5,
   "metadata": {},
   "outputs": [],
   "source": [
    "# -----------------------------\n",
    "# 4. Data Preprocessing\n",
    "# -----------------------------\n",
    "# Split the data into training and testing sets.\n",
    "X_train, X_test, y_train, y_test = train_test_split(X, y, test_size=0.2, random_state=42)\n",
    "\n",
    "# Standardize features to improve training stability.\n",
    "scaler = StandardScaler()\n",
    "X_train = scaler.fit_transform(X_train)\n",
    "X_test = scaler.transform(X_test)"
   ]
  },
  {
   "cell_type": "code",
   "execution_count": 6,
   "metadata": {},
   "outputs": [],
   "source": [
    "# Convert the numpy arrays to PyTorch tensors.\n",
    "X_train_tensor = torch.tensor(X_train, dtype=torch.float32)\n",
    "y_train_tensor = torch.tensor(y_train, dtype=torch.float32)\n",
    "X_test_tensor = torch.tensor(X_test, dtype=torch.float32)\n",
    "y_test_tensor = torch.tensor(y_test, dtype=torch.float32)\n",
    "\n",
    "# Create a TensorDataset and DataLoader for batch processing.\n",
    "train_dataset = TensorDataset(X_train_tensor, y_train_tensor)\n",
    "train_loader = DataLoader(train_dataset, batch_size=32, shuffle=True)"
   ]
  },
  {
   "cell_type": "code",
   "execution_count": 7,
   "metadata": {},
   "outputs": [],
   "source": [
    "# -----------------------------\n",
    "# 5. Define the Neural Network Model\n",
    "# -----------------------------\n",
    "class HousePriceModel(nn.Module):\n",
    "    def __init__(self, input_dim):\n",
    "        super(HousePriceModel, self).__init__()\n",
    "        self.fc1 = nn.Linear(input_dim, 64)\n",
    "        self.fc2 = nn.Linear(64, 32)\n",
    "        self.fc3 = nn.Linear(32, 1)  # Output layer for regression\n",
    "        self.relu = nn.ReLU()\n",
    "    \n",
    "    def forward(self, x):\n",
    "        x = self.relu(self.fc1(x))\n",
    "        x = self.relu(self.fc2(x))\n",
    "        x = self.fc3(x)\n",
    "        return x\n",
    "\n",
    "# Use GPU if available\n",
    "device = torch.device('cuda' if torch.cuda.is_available() else 'cpu')\n",
    "model = HousePriceModel(input_dim=X_train.shape[1]).to(device)"
   ]
  },
  {
   "cell_type": "code",
   "execution_count": 29,
   "metadata": {},
   "outputs": [
    {
     "name": "stdout",
     "output_type": "stream",
     "text": [
      "Epoch [10/1000], Loss: 40990800363.5200\n",
      "Epoch [20/1000], Loss: 40298113843.2000\n",
      "Epoch [30/1000], Loss: 38421138718.7200\n",
      "Epoch [40/1000], Loss: 35104575078.4000\n",
      "Epoch [50/1000], Loss: 30420335165.4400\n",
      "Epoch [60/1000], Loss: 24837238743.0400\n",
      "Epoch [70/1000], Loss: 19085041786.8800\n",
      "Epoch [80/1000], Loss: 13944244510.7200\n",
      "Epoch [90/1000], Loss: 9988913664.0000\n",
      "Epoch [100/1000], Loss: 7431787028.4800\n",
      "Epoch [110/1000], Loss: 6016790036.4800\n",
      "Epoch [120/1000], Loss: 5282084976.6400\n",
      "Epoch [130/1000], Loss: 4838574039.0400\n",
      "Epoch [140/1000], Loss: 4485529323.5200\n",
      "Epoch [150/1000], Loss: 4156512030.7200\n",
      "Epoch [160/1000], Loss: 3841627197.4400\n",
      "Epoch [170/1000], Loss: 3538675409.9200\n",
      "Epoch [180/1000], Loss: 3251767557.1200\n",
      "Epoch [190/1000], Loss: 2984188625.9200\n",
      "Epoch [200/1000], Loss: 2742456089.6000\n",
      "Epoch [210/1000], Loss: 2526346304.0000\n",
      "Epoch [220/1000], Loss: 2339450808.3200\n",
      "Epoch [230/1000], Loss: 2179138849.2800\n",
      "Epoch [240/1000], Loss: 2048512051.2000\n",
      "Epoch [250/1000], Loss: 1942972474.8800\n",
      "Epoch [260/1000], Loss: 1861274063.3600\n",
      "Epoch [270/1000], Loss: 1797473397.7600\n",
      "Epoch [280/1000], Loss: 1749364736.0000\n",
      "Epoch [290/1000], Loss: 1714089034.2400\n",
      "Epoch [300/1000], Loss: 1686089310.7200\n",
      "Epoch [310/1000], Loss: 1663691376.6400\n",
      "Epoch [320/1000], Loss: 1644551677.4400\n",
      "Epoch [330/1000], Loss: 1627777648.6400\n",
      "Epoch [340/1000], Loss: 1611668098.5600\n",
      "Epoch [350/1000], Loss: 1600667376.6400\n",
      "Epoch [360/1000], Loss: 1587618910.7200\n",
      "Epoch [370/1000], Loss: 1577129175.0400\n",
      "Epoch [380/1000], Loss: 1566680657.9200\n",
      "Epoch [390/1000], Loss: 1556834158.0800\n",
      "Epoch [400/1000], Loss: 1547995527.6800\n",
      "Epoch [410/1000], Loss: 1539402611.2000\n",
      "Epoch [420/1000], Loss: 1532264727.0400\n",
      "Epoch [430/1000], Loss: 1525198525.4400\n",
      "Epoch [440/1000], Loss: 1517671045.1200\n",
      "Epoch [450/1000], Loss: 1512976545.2800\n",
      "Epoch [460/1000], Loss: 1505031057.9200\n",
      "Epoch [470/1000], Loss: 1499210147.8400\n",
      "Epoch [480/1000], Loss: 1493700270.0800\n",
      "Epoch [490/1000], Loss: 1488223503.3600\n",
      "Epoch [500/1000], Loss: 1485684695.0400\n",
      "Epoch [510/1000], Loss: 1478314787.8400\n",
      "Epoch [520/1000], Loss: 1474631449.6000\n",
      "Epoch [530/1000], Loss: 1470478883.8400\n",
      "Epoch [540/1000], Loss: 1465378196.4800\n",
      "Epoch [550/1000], Loss: 1461574425.6000\n",
      "Epoch [560/1000], Loss: 1457608488.9600\n",
      "Epoch [570/1000], Loss: 1454070228.4800\n",
      "Epoch [580/1000], Loss: 1450808514.5600\n",
      "Epoch [590/1000], Loss: 1447614204.1600\n",
      "Epoch [600/1000], Loss: 1444492252.1600\n",
      "Epoch [610/1000], Loss: 1441915368.9600\n",
      "Epoch [620/1000], Loss: 1438690449.9200\n",
      "Epoch [630/1000], Loss: 1435903169.2800\n",
      "Epoch [640/1000], Loss: 1433128381.4400\n",
      "Epoch [650/1000], Loss: 1431138368.0000\n",
      "Epoch [660/1000], Loss: 1428063779.8400\n",
      "Epoch [670/1000], Loss: 1426205025.2800\n",
      "Epoch [680/1000], Loss: 1424316556.8000\n",
      "Epoch [690/1000], Loss: 1422480076.8000\n",
      "Epoch [700/1000], Loss: 1419789386.2400\n",
      "Epoch [710/1000], Loss: 1418027512.3200\n",
      "Epoch [720/1000], Loss: 1416674613.7600\n",
      "Epoch [730/1000], Loss: 1415652893.4400\n",
      "Epoch [740/1000], Loss: 1412782077.4400\n",
      "Epoch [750/1000], Loss: 1411396236.8000\n",
      "Epoch [760/1000], Loss: 1410699343.3600\n",
      "Epoch [770/1000], Loss: 1407943701.7600\n",
      "Epoch [780/1000], Loss: 1405704396.8000\n",
      "Epoch [790/1000], Loss: 1404259909.1200\n",
      "Epoch [800/1000], Loss: 1402918824.9600\n",
      "Epoch [810/1000], Loss: 1401372062.7200\n",
      "Epoch [820/1000], Loss: 1400329363.2000\n",
      "Epoch [830/1000], Loss: 1399268668.1600\n",
      "Epoch [840/1000], Loss: 1397515169.2800\n",
      "Epoch [850/1000], Loss: 1396375104.0000\n",
      "Epoch [860/1000], Loss: 1395736764.1600\n",
      "Epoch [870/1000], Loss: 1394115526.4000\n",
      "Epoch [880/1000], Loss: 1392726950.4000\n",
      "Epoch [890/1000], Loss: 1391450933.7600\n",
      "Epoch [900/1000], Loss: 1390648501.7600\n",
      "Epoch [910/1000], Loss: 1389836825.6000\n",
      "Epoch [920/1000], Loss: 1389451993.6000\n",
      "Epoch [930/1000], Loss: 1387878371.8400\n",
      "Epoch [940/1000], Loss: 1386677268.4800\n",
      "Epoch [950/1000], Loss: 1386612871.6800\n",
      "Epoch [960/1000], Loss: 1384601249.2800\n",
      "Epoch [970/1000], Loss: 1384407813.1200\n",
      "Epoch [980/1000], Loss: 1383321203.8400\n",
      "Epoch [990/1000], Loss: 1381937640.9600\n",
      "Epoch [1000/1000], Loss: 1381351384.3200\n"
     ]
    }
   ],
   "source": [
    "# -----------------------------\n",
    "# 6. Set Up Loss Function and Optimizer\n",
    "# -----------------------------\n",
    "criterion = nn.MSELoss()\n",
    "optimizer = optim.Adam(model.parameters(), lr=0.001)\n",
    "\n",
    "# -----------------------------\n",
    "# 7. Train the Model\n",
    "# -----------------------------\n",
    "num_epochs = 1000\n",
    "for epoch in range(num_epochs):\n",
    "    model.train()\n",
    "    running_loss = 0.0\n",
    "    for batch_X, batch_y in train_loader:\n",
    "        batch_X, batch_y = batch_X.to(device), batch_y.to(device)\n",
    "        \n",
    "        optimizer.zero_grad()\n",
    "        outputs = model(batch_X)\n",
    "        loss = criterion(outputs, batch_y)\n",
    "        loss.backward()\n",
    "        optimizer.step()\n",
    "        \n",
    "        running_loss += loss.item() * batch_X.size(0)\n",
    "    \n",
    "    epoch_loss = running_loss / len(train_dataset)\n",
    "    if (epoch + 1) % 10 == 0:\n",
    "        print(f\"Epoch [{epoch+1}/{num_epochs}], Loss: {epoch_loss:.4f}\")"
   ]
  },
  {
   "cell_type": "code",
   "execution_count": 32,
   "metadata": {},
   "outputs": [
    {
     "name": "stdout",
     "output_type": "stream",
     "text": [
      "Test Mean Squared Error: 916335168.0\n",
      "Test MSE (scikit-learn): 916335168.0\n"
     ]
    }
   ],
   "source": [
    "# 8. Evaluate the Model\n",
    "# -----------------------------\n",
    "model.eval()\n",
    "with torch.no_grad():\n",
    "    predictions = model(X_test_tensor.to(device))\n",
    "    test_loss = criterion(predictions, y_test_tensor.to(device)).item()\n",
    "    print(\"Test Mean Squared Error:\", test_loss)\n",
    "\n",
    "# Optionally, to evaluate using scikit-learn's MSE:\n",
    "predictions_np = predictions.cpu().numpy()\n",
    "mse = mean_squared_error(y_test, predictions_np)\n",
    "print(\"Test MSE (scikit-learn):\", mse)\n",
    "#Test Mean Squared Error: 935741376.0\n",
    "#Test Mean Squared Error: 890287168.0\n",
    "#Test MSE (scikit-learn): 890287040.0"
   ]
  },
  {
   "cell_type": "code",
   "execution_count": 33,
   "metadata": {},
   "outputs": [
    {
     "name": "stdout",
     "output_type": "stream",
     "text": [
      "Training RMSE: 36915.653048537555\n",
      "Test RMSE: 30271.028525638172\n"
     ]
    }
   ],
   "source": [
    "model.eval()\n",
    "with torch.no_grad():\n",
    "    train_predictions = model(X_train_tensor.to(device))\n",
    "    train_loss = criterion(train_predictions, y_train_tensor.to(device)).item()\n",
    "    train_rmse = np.sqrt(train_loss)\n",
    "    print(\"Training RMSE:\", train_rmse)\n",
    "\n",
    "rmse = np.sqrt(test_loss)\n",
    "print(f\"Test RMSE: {rmse}\")\n"
   ]
  },
  {
   "cell_type": "code",
   "execution_count": 26,
   "metadata": {},
   "outputs": [
    {
     "name": "stderr",
     "output_type": "stream",
     "text": [
      "/tmp/ipykernel_6555/3042700335.py:4: DeprecationWarning: __array_wrap__ must accept context and return_scalar arguments (positionally) in the future. (Deprecated NumPy 2.0)\n",
      "  errors = np.abs(predictions - y_test)\n"
     ]
    },
    {
     "data": {
      "image/png": "[encoded data removed]",
      "text/plain": [
       "<Figure size 640x480 with 1 Axes>"
      ]
     },
     "metadata": {},
     "output_type": "display_data"
    }
   ],
   "source": [
    "import matplotlib.pyplot as plt\n",
    "import seaborn as sns\n",
    "\n",
    "errors = np.abs(predictions - y_test)\n",
    "sns.histplot(errors, bins=50, kde=True)\n",
    "plt.xlabel(\"Absolute Error ($)\")\n",
    "plt.ylabel(\"Frequency\")\n",
    "plt.title(\"Distribution of Prediction Errors\")\n",
    "plt.show()"
   ]
  },
  {
   "cell_type": "code",
   "execution_count": null,
   "metadata": {},
   "outputs": [
    {
     "name": "stdout",
     "output_type": "stream",
     "text": [
      "Predictions saved to predictions.csv\n"
     ]
    }
   ],
   "source": [
    "# -----------------------------\n",
    "# 9. Generate Predictions on New Test Data (test.csv)\n",
    "# -----------------------------\n",
    "# Load the new test data\n",
    "test_data = pd.read_csv('test.csv')\n",
    "\n",
    "# Ensure the test data contains the ID column and the same top4_features.\n",
    "# For this example, assume the test file contains an \"ID\" column.\n",
    "if 'Id' not in test_data.columns:\n",
    "    raise ValueError(\"The test data must contain an 'ID' column.\")\n",
    "\n",
    "# It's assumed that the test data has at least the columns used in training.\n",
    "# Use the same top4_features determined from the training set.\n",
    "X_new = test_data[top4_features].values\n",
    "\n",
    "# Apply the same scaling transformation using the previously fitted scaler.\n",
    "X_new_scaled = scaler.transform(X_new)\n",
    "\n",
    "# Convert to PyTorch tensor.\n",
    "X_new_tensor = torch.tensor(X_new_scaled, dtype=torch.float32).to(device)\n",
    "\n",
    "# Put the model in evaluation mode and generate predictions.\n",
    "model.eval()\n",
    "with torch.no_grad():\n",
    "    new_predictions = model(X_new_tensor)\n",
    "    \n",
    "# Convert predictions to numpy array and flatten if necessary.\n",
    "new_predictions_np = new_predictions.cpu().numpy().flatten()\n",
    "\n",
    "# Create a DataFrame with IDs and their corresponding predicted sale prices.\n",
    "predictions_df = pd.DataFrame({\n",
    "    'ID': test_data['Id'],\n",
    "    'SalePrice': new_predictions_np\n",
    "})\n",
    "\n",
    "# Save the DataFrame to a CSV file.\n",
    "predictions_df.to_csv('predictions_original_architecture.csv', index=False)\n",
    "print(\"Predictions saved to predictions_original_architecture.csv\")\n"
   ]
  }
 ],
 "metadata": {
  "kernelspec": {
   "display_name": "Python 3",
   "language": "python",
   "name": "python3"
  },
  "language_info": {
   "codemirror_mode": {
    "name": "ipython",
    "version": 3
   },
   "file_extension": ".py",
   "mimetype": "text/x-python",
   "name": "python",
   "nbconvert_exporter": "python",
   "pygments_lexer": "ipython3",
   "version": "3.12.1"
  }
 },
 "nbformat": 4,
 "nbformat_minor": 2
}
