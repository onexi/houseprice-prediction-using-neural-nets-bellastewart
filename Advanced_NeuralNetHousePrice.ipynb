{
 "cells": [
  {
   "cell_type": "markdown",
   "metadata": {},
   "source": [
    "# House Price Predictor"
   ]
  },
  {
   "cell_type": "code",
   "execution_count": 1,
   "metadata": {},
   "outputs": [],
   "source": [
    "import pandas as pd\n",
    "import numpy as np\n",
    "import torch\n",
    "import torch.nn as nn\n",
    "import torch.optim as optim\n",
    "from sklearn.model_selection import train_test_split\n",
    "from sklearn.preprocessing import StandardScaler\n",
    "from sklearn.metrics import mean_squared_error\n",
    "from torch.utils.data import TensorDataset, DataLoader"
   ]
  },
  {
   "cell_type": "code",
   "execution_count": 2,
   "metadata": {},
   "outputs": [],
   "source": [
    "# -----------------------------\n",
    "# 1. Load the dataset\n",
    "# -----------------------------\n",
    "# Replace 'house_prices.csv' with the path to your dataset.\n",
    "data = pd.read_csv('train.csv')\n",
    "#data"
   ]
  },
  {
   "cell_type": "code",
   "execution_count": 3,
   "metadata": {},
   "outputs": [],
   "source": [
    "# -----------------------------\n",
    "# 2. Data Cleaning\n",
    "# -----------------------------\n",
    "# Select only numeric columns that have no missing data.\n",
    "numeric_cols = data.select_dtypes(include=[np.number]).columns\n",
    "clean_numeric_cols = [col for col in numeric_cols if data[col].isna().sum() == 0]\n",
    "data_clean = data[clean_numeric_cols]\n",
    "\n",
    "# Ensure that the target column 'price' is present.\n",
    "if 'SalePrice' not in data_clean.columns:\n",
    "    raise ValueError(\"The target column 'price' is not present in the complete numeric data.\")"
   ]
  },
  {
   "cell_type": "code",
   "execution_count": 4,
   "metadata": {},
   "outputs": [
    {
     "name": "stdout",
     "output_type": "stream",
     "text": [
      "Selected top 4 features: ['OverallQual', 'GrLivArea', 'GarageCars', 'GarageArea']\n"
     ]
    }
   ],
   "source": [
    "# -----------------------------\n",
    "# 3. Feature Selection\n",
    "# -----------------------------\n",
    "# Compute the correlation matrix using only the cleaned numeric data.\n",
    "corr_matrix = data_clean.corr()\n",
    "\n",
    "# Compute absolute correlations of features with the target and drop the target itself.\n",
    "target_corr = corr_matrix['SalePrice'].drop('SalePrice').abs().sort_values(ascending=False)\n",
    "\n",
    "# Select only the top 4 features with the highest correlation with 'SalesPrice'\n",
    "top4_features = target_corr.head(4).index\n",
    "print(\"Selected top 4 features:\", list(top4_features))\n",
    "\n",
    "# Define input features (X) and target variable (y).\n",
    "X = data_clean[top4_features].values\n",
    "y = data_clean['SalePrice'].values.reshape(-1, 1)"
   ]
  },
  {
   "cell_type": "code",
   "execution_count": 5,
   "metadata": {},
   "outputs": [],
   "source": [
    "# -----------------------------\n",
    "# 4. Data Preprocessing\n",
    "# -----------------------------\n",
    "# Split the data into training and testing sets.\n",
    "X_train, X_test, y_train, y_test = train_test_split(X, y, test_size=0.2, random_state=42)\n",
    "\n",
    "# Standardize features to improve training stability.\n",
    "scaler = StandardScaler()\n",
    "X_train = scaler.fit_transform(X_train)\n",
    "X_test = scaler.transform(X_test)"
   ]
  },
  {
   "cell_type": "code",
   "execution_count": 6,
   "metadata": {},
   "outputs": [],
   "source": [
    "# Convert the numpy arrays to PyTorch tensors.\n",
    "X_train_tensor = torch.tensor(X_train, dtype=torch.float32)\n",
    "y_train_tensor = torch.tensor(y_train, dtype=torch.float32)\n",
    "X_test_tensor = torch.tensor(X_test, dtype=torch.float32)\n",
    "y_test_tensor = torch.tensor(y_test, dtype=torch.float32)\n",
    "\n",
    "# Create a TensorDataset and DataLoader for batch processing.\n",
    "train_dataset = TensorDataset(X_train_tensor, y_train_tensor)\n",
    "train_loader = DataLoader(train_dataset, batch_size=32, shuffle=True)"
   ]
  },
  {
   "cell_type": "code",
   "execution_count": 8,
   "metadata": {},
   "outputs": [],
   "source": [
    "class AdvancedHousePriceModel(nn.Module):\n",
    "    def __init__(self, input_dim):\n",
    "        super(AdvancedHousePriceModel, self).__init__()\n",
    "        # Increase capacity by having a wide first layer.\n",
    "        self.fc1 = nn.Linear(input_dim, 256)\n",
    "        self.bn1 = nn.BatchNorm1d(256)\n",
    "        \n",
    "        # Second layer: Reduce dimensionality gradually.\n",
    "        self.fc2 = nn.Linear(256, 128)\n",
    "        self.bn2 = nn.BatchNorm1d(128)\n",
    "        \n",
    "        # Third layer: Further reduce.\n",
    "        self.fc3 = nn.Linear(128, 64)\n",
    "        self.bn3 = nn.BatchNorm1d(64)\n",
    "        \n",
    "        # Fourth layer: More abstraction.\n",
    "        self.fc4 = nn.Linear(64, 32)\n",
    "        self.bn4 = nn.BatchNorm1d(32)\n",
    "        \n",
    "        # Output layer for regression.\n",
    "        self.fc5 = nn.Linear(32, 1)\n",
    "        \n",
    "        # Activation and dropout settings.\n",
    "        self.relu = nn.ReLU()\n",
    "        self.dropout = nn.Dropout(0.3)  # Increased dropout to help prevent overfitting.\n",
    "    \n",
    "    def forward(self, x):\n",
    "        x = self.fc1(x)\n",
    "        x = self.bn1(x)\n",
    "        x = self.relu(x)\n",
    "        x = self.dropout(x)\n",
    "        \n",
    "        x = self.fc2(x)\n",
    "        x = self.bn2(x)\n",
    "        x = self.relu(x)\n",
    "        x = self.dropout(x)\n",
    "        \n",
    "        x = self.fc3(x)\n",
    "        x = self.bn3(x)\n",
    "        x = self.relu(x)\n",
    "        x = self.dropout(x)\n",
    "        \n",
    "        x = self.fc4(x)\n",
    "        x = self.bn4(x)\n",
    "        x = self.relu(x)\n",
    "        x = self.dropout(x)\n",
    "        \n",
    "        x = self.fc5(x)\n",
    "        return x\n",
    "\n",
    "# Use GPU if available\n",
    "device = torch.device('cuda' if torch.cuda.is_available() else 'cpu')\n",
    "model = HousePriceModel(input_dim=X_train.shape[1]).to(device)"
   ]
  },
  {
   "cell_type": "code",
   "execution_count": 10,
   "metadata": {},
   "outputs": [
    {
     "name": "stderr",
     "output_type": "stream",
     "text": [
      "/home/codespace/.local/lib/python3.12/site-packages/torch/optim/lr_scheduler.py:62: UserWarning: The verbose parameter is deprecated. Please use get_last_lr() to access the learning rate.\n",
      "  warnings.warn(\n"
     ]
    },
    {
     "name": "stdout",
     "output_type": "stream",
     "text": [
      "Epoch [10/1000], Training Loss: 1391339228.1600, Validation Loss: 941371072.0000\n",
      "Epoch [20/1000], Training Loss: 1390334278.4000, Validation Loss: 933337472.0000\n",
      "Epoch [30/1000], Training Loss: 1389200787.2000, Validation Loss: 936893248.0000\n",
      "Epoch [40/1000], Training Loss: 1387732093.4400, Validation Loss: 940617792.0000\n",
      "Epoch [50/1000], Training Loss: 1388083543.0400, Validation Loss: 936843008.0000\n",
      "Epoch [60/1000], Training Loss: 1387297937.9200, Validation Loss: 936262720.0000\n",
      "Epoch [70/1000], Training Loss: 1386624120.3200, Validation Loss: 934910720.0000\n",
      "Epoch [80/1000], Training Loss: 1385170936.3200, Validation Loss: 930924608.0000\n",
      "Epoch [90/1000], Training Loss: 1384211420.1600, Validation Loss: 928221120.0000\n",
      "Epoch [100/1000], Training Loss: 1385365420.8000, Validation Loss: 933413184.0000\n",
      "Epoch [110/1000], Training Loss: 1382955069.4400, Validation Loss: 938585216.0000\n",
      "Epoch [120/1000], Training Loss: 1383866068.4800, Validation Loss: 936465792.0000\n",
      "Epoch [130/1000], Training Loss: 1382611811.8400, Validation Loss: 926966720.0000\n",
      "Epoch [140/1000], Training Loss: 1381567321.6000, Validation Loss: 929156608.0000\n",
      "Epoch [150/1000], Training Loss: 1381334274.5600, Validation Loss: 924431552.0000\n",
      "Epoch [160/1000], Training Loss: 1380392107.5200, Validation Loss: 925592128.0000\n",
      "Epoch [170/1000], Training Loss: 1382553850.8800, Validation Loss: 918871232.0000\n",
      "Epoch [180/1000], Training Loss: 1380478662.4000, Validation Loss: 929605888.0000\n",
      "Epoch [190/1000], Training Loss: 1380049299.2000, Validation Loss: 923772672.0000\n",
      "Epoch [200/1000], Training Loss: 1377597588.4800, Validation Loss: 928008960.0000\n",
      "Epoch [210/1000], Training Loss: 1377189056.0000, Validation Loss: 928181760.0000\n",
      "Epoch [220/1000], Training Loss: 1376866562.5600, Validation Loss: 927192512.0000\n",
      "Epoch [230/1000], Training Loss: 1376564506.8800, Validation Loss: 928738816.0000\n",
      "Epoch [240/1000], Training Loss: 1375833813.7600, Validation Loss: 927347264.0000\n",
      "Epoch [250/1000], Training Loss: 1376035376.6400, Validation Loss: 922117632.0000\n",
      "Epoch [260/1000], Training Loss: 1374601665.2800, Validation Loss: 914992000.0000\n",
      "Epoch [270/1000], Training Loss: 1375032430.0800, Validation Loss: 924891328.0000\n",
      "Epoch [280/1000], Training Loss: 1374949154.5600, Validation Loss: 929031296.0000\n",
      "Epoch [290/1000], Training Loss: 1373823262.7200, Validation Loss: 920841088.0000\n",
      "Epoch [300/1000], Training Loss: 1373554657.2800, Validation Loss: 920648768.0000\n",
      "Epoch [310/1000], Training Loss: 1374509089.2800, Validation Loss: 913078336.0000\n",
      "Epoch [320/1000], Training Loss: 1372130895.3600, Validation Loss: 921225280.0000\n",
      "Epoch [330/1000], Training Loss: 1371771285.7600, Validation Loss: 916004096.0000\n",
      "Epoch [340/1000], Training Loss: 1371053422.0800, Validation Loss: 918041792.0000\n",
      "Epoch [350/1000], Training Loss: 1372147448.3200, Validation Loss: 920071680.0000\n",
      "Epoch [360/1000], Training Loss: 1370325135.3600, Validation Loss: 918207040.0000\n",
      "Epoch [370/1000], Training Loss: 1369336842.2400, Validation Loss: 918559040.0000\n",
      "Epoch [380/1000], Training Loss: 1370472819.2000, Validation Loss: 914101888.0000\n",
      "Epoch [390/1000], Training Loss: 1369271191.0400, Validation Loss: 917167552.0000\n",
      "Epoch [400/1000], Training Loss: 1368908046.0800, Validation Loss: 923958784.0000\n",
      "Epoch [410/1000], Training Loss: 1368148273.9200, Validation Loss: 919094336.0000\n",
      "Epoch [420/1000], Training Loss: 1368233262.0800, Validation Loss: 912981632.0000\n",
      "Epoch [430/1000], Training Loss: 1368365913.6000, Validation Loss: 909481024.0000\n",
      "Epoch [440/1000], Training Loss: 1367806545.9200, Validation Loss: 911497152.0000\n",
      "Epoch [450/1000], Training Loss: 1366003568.6400, Validation Loss: 916384704.0000\n",
      "Epoch [460/1000], Training Loss: 1365457207.0400, Validation Loss: 915454144.0000\n",
      "Epoch [470/1000], Training Loss: 1365331457.2800, Validation Loss: 912890944.0000\n",
      "Epoch [480/1000], Training Loss: 1365260490.2400, Validation Loss: 911659520.0000\n",
      "Epoch [490/1000], Training Loss: 1364228787.2000, Validation Loss: 914206528.0000\n",
      "Epoch [500/1000], Training Loss: 1364511813.1200, Validation Loss: 910036352.0000\n",
      "Epoch [510/1000], Training Loss: 1364564240.6400, Validation Loss: 913772160.0000\n",
      "Epoch [520/1000], Training Loss: 1363173617.9200, Validation Loss: 909716608.0000\n",
      "Epoch [530/1000], Training Loss: 1363503669.7600, Validation Loss: 912962688.0000\n",
      "Epoch [540/1000], Training Loss: 1363277515.5200, Validation Loss: 909020672.0000\n",
      "Epoch [550/1000], Training Loss: 1362365329.9200, Validation Loss: 911126720.0000\n",
      "Epoch [560/1000], Training Loss: 1361984029.4400, Validation Loss: 914840320.0000\n",
      "Epoch [570/1000], Training Loss: 1362244257.2800, Validation Loss: 911376448.0000\n",
      "Epoch [580/1000], Training Loss: 1361162462.7200, Validation Loss: 910465792.0000\n",
      "Epoch [590/1000], Training Loss: 1360767408.6400, Validation Loss: 909963840.0000\n",
      "Epoch [600/1000], Training Loss: 1360414832.6400, Validation Loss: 913443584.0000\n",
      "Epoch [610/1000], Training Loss: 1361603645.4400, Validation Loss: 915139136.0000\n",
      "Epoch [620/1000], Training Loss: 1360245498.8800, Validation Loss: 906795264.0000\n",
      "Epoch [630/1000], Training Loss: 1359618795.5200, Validation Loss: 914268672.0000\n",
      "Epoch [640/1000], Training Loss: 1358780983.0400, Validation Loss: 906941504.0000\n",
      "Epoch [650/1000], Training Loss: 1359145136.6400, Validation Loss: 902800512.0000\n",
      "Epoch [660/1000], Training Loss: 1359421144.3200, Validation Loss: 904041024.0000\n",
      "Epoch [670/1000], Training Loss: 1358182696.9600, Validation Loss: 905167040.0000\n",
      "Epoch [680/1000], Training Loss: 1358545624.3200, Validation Loss: 904584576.0000\n",
      "Epoch [690/1000], Training Loss: 1357840915.2000, Validation Loss: 908524096.0000\n",
      "Epoch [700/1000], Training Loss: 1357296149.7600, Validation Loss: 904456512.0000\n",
      "Epoch [710/1000], Training Loss: 1357369256.9600, Validation Loss: 910801088.0000\n",
      "Epoch [720/1000], Training Loss: 1357733709.4400, Validation Loss: 904825216.0000\n",
      "Epoch [730/1000], Training Loss: 1358193943.0400, Validation Loss: 912880256.0000\n",
      "Epoch [740/1000], Training Loss: 1357415546.8800, Validation Loss: 912974016.0000\n",
      "Epoch [750/1000], Training Loss: 1357193579.5200, Validation Loss: 902662784.0000\n",
      "Epoch [760/1000], Training Loss: 1356464416.0000, Validation Loss: 913591488.0000\n",
      "Epoch [770/1000], Training Loss: 1355951284.4800, Validation Loss: 905573312.0000\n",
      "Epoch [780/1000], Training Loss: 1355931192.3200, Validation Loss: 902319616.0000\n",
      "Epoch [790/1000], Training Loss: 1355635808.0000, Validation Loss: 908166016.0000\n",
      "Epoch [800/1000], Training Loss: 1354070169.6000, Validation Loss: 908569472.0000\n",
      "Epoch [810/1000], Training Loss: 1353790638.0800, Validation Loss: 910006592.0000\n",
      "Epoch [820/1000], Training Loss: 1354806924.8000, Validation Loss: 903080832.0000\n",
      "Epoch [830/1000], Training Loss: 1354138813.4400, Validation Loss: 905415424.0000\n",
      "Epoch [840/1000], Training Loss: 1353805615.3600, Validation Loss: 904130176.0000\n",
      "Epoch [850/1000], Training Loss: 1353678385.9200, Validation Loss: 899017280.0000\n",
      "Epoch [860/1000], Training Loss: 1354943324.1600, Validation Loss: 913425792.0000\n",
      "Epoch [870/1000], Training Loss: 1353456300.8000, Validation Loss: 910968192.0000\n",
      "Epoch [880/1000], Training Loss: 1353993210.8800, Validation Loss: 905232576.0000\n",
      "Epoch [890/1000], Training Loss: 1353004968.9600, Validation Loss: 903821056.0000\n",
      "Epoch [900/1000], Training Loss: 1352811680.0000, Validation Loss: 909034944.0000\n",
      "Epoch [910/1000], Training Loss: 1351965745.9200, Validation Loss: 903374656.0000\n",
      "Epoch [920/1000], Training Loss: 1351402272.0000, Validation Loss: 899941440.0000\n",
      "Epoch [930/1000], Training Loss: 1351543639.0400, Validation Loss: 905768640.0000\n",
      "Epoch [940/1000], Training Loss: 1350922406.4000, Validation Loss: 899444928.0000\n",
      "Epoch [950/1000], Training Loss: 1350768135.6800, Validation Loss: 900837952.0000\n",
      "Epoch [960/1000], Training Loss: 1350438731.5200, Validation Loss: 907307584.0000\n",
      "Epoch [970/1000], Training Loss: 1349851737.6000, Validation Loss: 906867968.0000\n",
      "Epoch [980/1000], Training Loss: 1350106336.0000, Validation Loss: 906979072.0000\n",
      "Epoch [990/1000], Training Loss: 1350279790.0800, Validation Loss: 904796224.0000\n",
      "Epoch [1000/1000], Training Loss: 1351108490.2400, Validation Loss: 902281472.0000\n"
     ]
    }
   ],
   "source": [
    "# -----------------------------\n",
    "# 6. Set Up Loss Function, Optimizer, and Scheduler\n",
    "# -----------------------------\n",
    "criterion = nn.MSELoss()\n",
    "optimizer = optim.Adam(model.parameters(), lr=0.001)\n",
    "scheduler = optim.lr_scheduler.ReduceLROnPlateau(optimizer, mode='min', factor=0.5, patience=50, verbose=True)\n",
    "\n",
    "# -----------------------------\n",
    "# 7. Train the Model with Validation and Gradient Clipping\n",
    "# -----------------------------\n",
    "num_epochs = 1000\n",
    "best_val_loss = float('inf')\n",
    "for epoch in range(num_epochs):\n",
    "    model.train()\n",
    "    running_loss = 0.0\n",
    "    for batch_X, batch_y in train_loader:\n",
    "        batch_X, batch_y = batch_X.to(device), batch_y.to(device)\n",
    "        \n",
    "        optimizer.zero_grad()\n",
    "        outputs = model(batch_X)\n",
    "        loss = criterion(outputs, batch_y)\n",
    "        loss.backward()\n",
    "        \n",
    "        # Gradient clipping to prevent exploding gradients\n",
    "        torch.nn.utils.clip_grad_norm_(model.parameters(), max_norm=1.0)\n",
    "        \n",
    "        optimizer.step()\n",
    "        running_loss += loss.item() * batch_X.size(0)\n",
    "    \n",
    "    epoch_loss = running_loss / len(train_dataset)\n",
    "    \n",
    "    # Evaluate on validation (test) set every 10 epochs\n",
    "    if (epoch + 1) % 10 == 0:\n",
    "        model.eval()\n",
    "        with torch.no_grad():\n",
    "            val_predictions = model(X_test_tensor.to(device))\n",
    "            val_loss = criterion(val_predictions, y_test_tensor.to(device)).item()\n",
    "        print(f\"Epoch [{epoch+1}/{num_epochs}], Training Loss: {epoch_loss:.4f}, Validation Loss: {val_loss:.4f}\")\n",
    "        \n",
    "        # Step the scheduler based on the validation loss\n",
    "        scheduler.step(val_loss)\n",
    "        \n",
    "        # Optionally, implement early stopping:\n",
    "        if val_loss < best_val_loss:\n",
    "            best_val_loss = val_loss\n",
    "            # Optionally, save the best model weights\n",
    "            best_model_wts = model.state_dict()\n",
    "        # Uncomment below to add a simple early stopping condition\n",
    "        # else:\n",
    "        #     early_stop_counter += 1\n",
    "        #     if early_stop_counter >= patience_threshold:\n",
    "        #         print(\"Early stopping\")\n",
    "        #         break\n",
    "\n",
    "# Optionally, load the best model weights after training is complete.\n",
    "# model.load_state_dict(best_model_wts)\n"
   ]
  },
  {
   "cell_type": "code",
   "execution_count": 11,
   "metadata": {},
   "outputs": [
    {
     "name": "stdout",
     "output_type": "stream",
     "text": [
      "Test Mean Squared Error: 902281472.0\n",
      "Test MSE (scikit-learn): 902281472.0\n"
     ]
    }
   ],
   "source": [
    "# 8. Evaluate the Model\n",
    "# -----------------------------\n",
    "model.eval()\n",
    "with torch.no_grad():\n",
    "    predictions = model(X_test_tensor.to(device))\n",
    "    test_loss = criterion(predictions, y_test_tensor.to(device)).item()\n",
    "    print(\"Test Mean Squared Error:\", test_loss)\n",
    "\n",
    "# Optionally, to evaluate using scikit-learn's MSE:\n",
    "predictions_np = predictions.cpu().numpy()\n",
    "mse = mean_squared_error(y_test, predictions_np)\n",
    "print(\"Test MSE (scikit-learn):\", mse)\n",
    "#Test Mean Squared Error: 935741376.0\n",
    "#Test Mean Squared Error: 890287168.0\n",
    "#Test MSE (scikit-learn): 890287040.0"
   ]
  },
  {
   "cell_type": "code",
   "execution_count": 12,
   "metadata": {},
   "outputs": [
    {
     "name": "stdout",
     "output_type": "stream",
     "text": [
      "Training RMSE: 36735.61672273926\n",
      "Test RMSE: 30038.0004660763\n"
     ]
    }
   ],
   "source": [
    "model.eval()\n",
    "with torch.no_grad():\n",
    "    train_predictions = model(X_train_tensor.to(device))\n",
    "    train_loss = criterion(train_predictions, y_train_tensor.to(device)).item()\n",
    "    train_rmse = np.sqrt(train_loss)\n",
    "    print(\"Training RMSE:\", train_rmse)\n",
    "\n",
    "rmse = np.sqrt(test_loss)\n",
    "print(f\"Test RMSE: {rmse}\")\n"
   ]
  },
  {
   "cell_type": "code",
   "execution_count": 13,
   "metadata": {},
   "outputs": [
    {
     "name": "stderr",
     "output_type": "stream",
     "text": [
      "/tmp/ipykernel_9603/3042700335.py:4: DeprecationWarning: __array_wrap__ must accept context and return_scalar arguments (positionally) in the future. (Deprecated NumPy 2.0)\n",
      "  errors = np.abs(predictions - y_test)\n"
     ]
    },
    {
     "data": {
      "image/png": "[encoded data removed]",
      "text/plain": [
       "<Figure size 640x480 with 1 Axes>"
      ]
     },
     "metadata": {},
     "output_type": "display_data"
    }
   ],
   "source": [
    "import matplotlib.pyplot as plt\n",
    "import seaborn as sns\n",
    "\n",
    "errors = np.abs(predictions - y_test)\n",
    "sns.histplot(errors, bins=50, kde=True)\n",
    "plt.xlabel(\"Absolute Error ($)\")\n",
    "plt.ylabel(\"Frequency\")\n",
    "plt.title(\"Distribution of Prediction Errors\")\n",
    "plt.show()"
   ]
  },
  {
   "cell_type": "code",
   "execution_count": 14,
   "metadata": {},
   "outputs": [
    {
     "name": "stdout",
     "output_type": "stream",
     "text": [
      "Predictions saved to predictions.csv\n"
     ]
    }
   ],
   "source": [
    "# -----------------------------\n",
    "# 9. Generate Predictions on New Test Data (test.csv)\n",
    "# -----------------------------\n",
    "# Load the new test data\n",
    "test_data = pd.read_csv('test.csv')\n",
    "\n",
    "# Ensure the test data contains the ID column and the same top4_features.\n",
    "# For this example, assume the test file contains an \"ID\" column.\n",
    "if 'Id' not in test_data.columns:\n",
    "    raise ValueError(\"The test data must contain an 'ID' column.\")\n",
    "\n",
    "# It's assumed that the test data has at least the columns used in training.\n",
    "# Use the same top4_features determined from the training set.\n",
    "X_new = test_data[top4_features].values\n",
    "\n",
    "# Apply the same scaling transformation using the previously fitted scaler.\n",
    "X_new_scaled = scaler.transform(X_new)\n",
    "\n",
    "# Convert to PyTorch tensor.\n",
    "X_new_tensor = torch.tensor(X_new_scaled, dtype=torch.float32).to(device)\n",
    "\n",
    "# Put the model in evaluation mode and generate predictions.\n",
    "model.eval()\n",
    "with torch.no_grad():\n",
    "    new_predictions = model(X_new_tensor)\n",
    "    \n",
    "# Convert predictions to numpy array and flatten if necessary.\n",
    "new_predictions_np = new_predictions.cpu().numpy().flatten()\n",
    "\n",
    "# Create a DataFrame with IDs and their corresponding predicted sale prices.\n",
    "predictions_df = pd.DataFrame({\n",
    "    'ID': test_data['Id'],\n",
    "    'SalePrice': new_predictions_np\n",
    "})\n",
    "\n",
    "# Save the DataFrame to a CSV file.\n",
    "predictions_df.to_csv('predictions.csv', index=False)\n",
    "print(\"Predictions saved to predictions.csv\")\n"
   ]
  }
 ],
 "metadata": {
  "kernelspec": {
   "display_name": "Python 3",
   "language": "python",
   "name": "python3"
  },
  "language_info": {
   "codemirror_mode": {
    "name": "ipython",
    "version": 3
   },
   "file_extension": ".py",
   "mimetype": "text/x-python",
   "name": "python",
   "nbconvert_exporter": "python",
   "pygments_lexer": "ipython3",
   "version": "3.12.1"
  }
 },
 "nbformat": 4,
 "nbformat_minor": 2
}
